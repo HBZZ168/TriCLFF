{
 "cells": [
  {
   "cell_type": "code",
   "execution_count": null,
   "id": "8952f095-4228-4928-92a9-3d40c9d795b6",
   "metadata": {},
   "outputs": [
    {
     "name": "stdout",
     "output_type": "stream",
     "text": [
      "Namespace(backbone='swin_s', batch_size=64, ckpt_path='last.pth', dataset='SpatialLIBD', device='cuda', epochs=30, gene_preprocess='hvg', img_size=112, is_load=False, is_train=True, last_dim=64, log_name='log_name', lr=0.001, n_gene=3000, name='151672', num_workers=15, p_drop=0, path='/root/autodl-tmp/ConGI/data/DLPFC', pct_mask=0.2, pct_noise=0.8, pct_swap=0.1, prob_mask=0.5, prob_noise=0.5, prob_swap=0.5, sigma_noise=0.5, w_g2g=0.1, w_g2i=1, w_graph_loss=0.5, w_i2i=0.1, w_recon=0.3, w_s2g=0.1, w_s2i=1, w_s2s=0.1)\n"
     ]
    }
   ],
   "source": [
    "import os\n",
    "import random\n",
    "import numpy as np\n",
    "import scanpy as sc\n",
    "import torch\n",
    "from torch.utils.data import DataLoader\n",
    "import argparse\n",
    "import matplotlib.pyplot as plt\n",
    "from sklearn.metrics import adjusted_rand_score\n",
    "\n",
    "from dataset import Dataset\n",
    "from model import SpaCLR, TrainerSpaCLR\n",
    "from utils import get_predicted_results, load_ST_file\n",
    "import pandas as pd\n",
    "import warnings\n",
    "warnings.filterwarnings(\"ignore\")\n",
    "parser = argparse.ArgumentParser()\n",
    "\n",
    "# preprocess\n",
    "parser.add_argument('--dataset', type=str, default=\"SpatialLIBD\")   #BreastCancer  MouseBrain MouseOlfactoryBulb\n",
    "parser.add_argument('--path', type=str, default=\"/root/autodl-tmp/data/DLPFC\") #/DLPFC\n",
    "parser.add_argument(\"--gene_preprocess\", choices=(\"pca\", \"hvg\"), default=\"hvg\")\n",
    "parser.add_argument(\"--n_gene\", choices=(3000, 1000), default=3000)\n",
    "parser.add_argument('--img_size', type=int, default=112)\n",
    "parser.add_argument('--num_workers', type=int, default=15)\n",
    "\n",
    "# model\n",
    "parser.add_argument('--last_dim', type=int, default=64)\n",
    "parser.add_argument('--lr', type=float, default=0.001)\n",
    "parser.add_argument('--p_drop', type=float, default=0)\n",
    "\n",
    "parser.add_argument('--w_g2i', type=float, default=1)\n",
    "parser.add_argument('--w_s2i', type=float, default=1)\n",
    "parser.add_argument('--w_g2g', type=float, default=0.1)\n",
    "parser.add_argument('--w_s2s', type=float, default=0.1)\n",
    "parser.add_argument('--w_s2g', type=float, default=0.1)\n",
    "parser.add_argument('--w_i2i', type=float, default=0.1)\n",
    "parser.add_argument('--w_recon', type=float, default=0.3)\n",
    "parser.add_argument('--w_graph_loss', type=float, default=0.5)\n",
    "\n",
    "# data augmentation\n",
    "parser.add_argument('--prob_mask', type=float, default=0.5)\n",
    "parser.add_argument('--pct_mask', type=float, default=0.2)\n",
    "parser.add_argument('--prob_noise', type=float, default=0.5)\n",
    "parser.add_argument('--pct_noise', type=float, default=0.8)\n",
    "parser.add_argument('--sigma_noise', type=float, default=0.5)\n",
    "parser.add_argument('--prob_swap', type=float, default=0.5)\n",
    "parser.add_argument('--pct_swap', type=float, default=0.1)\n",
    "parser.add_argument('--backbone', type=str, default='swin_s')\n",
    "# train\n",
    "parser.add_argument('--batch_size', type=int, default=64)\n",
    "parser.add_argument('--epochs', type=int, default=30)\n",
    "parser.add_argument('--device', type=str, default=\"cuda\")\n",
    "parser.add_argument('--log_name', type=str, default=\"log_name\")\n",
    "parser.add_argument('--name', type=str, default=\"151672\")\n",
    "\n",
    "parser.add_argument('--is_train', type=bool, default=True)\n",
    "parser.add_argument('--is_load', type=bool, default=False)\n",
    "parser.add_argument('--ckpt_path', type=str, default=\"last.pth\")\n",
    "args = parser.parse_args(args=['--epochs', '30', '--name', '151672'])\n",
    "#args = parser.parse_args()\n",
    "print(args)"
   ]
  },
  {
   "cell_type": "code",
   "execution_count": null,
   "id": "7b24ac48-ee6d-4d0a-8f61-8f9d620b0b24",
   "metadata": {
    "tags": []
   },
   "outputs": [
    {
     "name": "stdout",
     "output_type": "stream",
     "text": [
      "图注意力xg： (4015, 30)\n",
      "MLP编码器xg1： (4015, 30)\n",
      "形态学图像xi： (4015, 30)\n"
     ]
    },
    {
     "name": "stderr",
     "output_type": "stream",
     "text": [
      "R[write to console]:                    __           __ \n",
      "   ____ ___  _____/ /_  _______/ /_\n",
      "  / __ `__ \\/ ___/ / / / / ___/ __/\n",
      " / / / / / / /__/ / /_/ (__  ) /_  \n",
      "/_/ /_/ /_/\\___/_/\\__,_/____/\\__/   version 6.0.1\n",
      "Type 'citation(\"mclust\")' for citing this R package in publications.\n",
      "\n"
     ]
    },
    {
     "name": "stdout",
     "output_type": "stream",
     "text": [
      "fitting ...\n",
      "  |======================================================================| 100%\n",
      "Adjusted rand index = 0.593\n"
     ]
    }
   ],
   "source": [
    "xg = np.load(f'embeddings/{args.name}_xg.npy')\n",
    "xg1 = np.load(f'embeddings/{args.name}_xg1.npy')\n",
    "xi = np.load(f'embeddings/{args.name}_xi.npy')\n",
    "a1=0.5\n",
    "b1=0.1\n",
    "z = xg + xg1*a1 + b1*xi    # GAT+MLP+Image\n",
    "ari, pred_label = get_predicted_results(args.dataset, args.name, args.path, z)\n",
    "if not os.path.exists(\"output\"):\n",
    "    os.mkdir(\"output\")\n",
    "pd.DataFrame({\"cluster_labels\": pred_label.tolist()}).to_csv(\n",
    "    \"output/\" + f\"{args.name}_pred.csv\")"
   ]
  },
  {
   "cell_type": "code",
   "execution_count": 3,
   "id": "60e0b685-734d-4169-80b6-b449e877cc09",
   "metadata": {
    "tags": []
   },
   "outputs": [
    {
     "data": {
      "text/plain": [
       "0.5927183911724826"
      ]
     },
     "execution_count": 3,
     "metadata": {},
     "output_type": "execute_result"
    }
   ],
   "source": [
    "ari"
   ]
  },
  {
   "cell_type": "code",
   "execution_count": 4,
   "id": "2ce092c4-9f97-4fce-83e9-edababc05492",
   "metadata": {},
   "outputs": [
    {
     "data": {
      "text/plain": [
       "AnnData object with n_obs × n_vars = 4015 × 33538\n",
       "    obs: 'in_tissue', 'array_row', 'array_col'\n",
       "    var: 'gene_ids', 'feature_types', 'genome'\n",
       "    uns: 'spatial'\n",
       "    obsm: 'spatial'"
      ]
     },
     "execution_count": 4,
     "metadata": {},
     "output_type": "execute_result"
    }
   ],
   "source": [
    "adata = load_ST_file(os.path.join(args.path, args.name))\n",
    "adata"
   ]
  },
  {
   "cell_type": "code",
   "execution_count": 5,
   "id": "78df00ca-6824-4b51-9795-7c9ed22e1339",
   "metadata": {},
   "outputs": [],
   "source": [
    "adata.var_names_make_unique()\n",
    "adata.var[\"mt\"] = adata.var_names.str.startswith(\"MT-\")\n",
    "sc.pp.calculate_qc_metrics(adata, qc_vars=[\"mt\"], inplace=True)"
   ]
  },
  {
   "cell_type": "code",
   "execution_count": 6,
   "id": "b0d526b2-c565-491d-b219-ca4fb2b14e72",
   "metadata": {},
   "outputs": [],
   "source": [
    "sc.pp.filter_genes(adata, min_cells=3)\n",
    "sc.pp.normalize_total(adata, inplace=True)\n",
    "sc.pp.log1p(adata)\n",
    "sc.pp.highly_variable_genes(adata, flavor=\"seurat\", n_top_genes=3000)"
   ]
  },
  {
   "cell_type": "code",
   "execution_count": 7,
   "id": "c1289e6f-fb87-4191-b959-4d6b35f42cb2",
   "metadata": {},
   "outputs": [
    {
     "data": {
      "text/plain": [
       "AnnData object with n_obs × n_vars = 4015 × 18730\n",
       "    obs: 'in_tissue', 'array_row', 'array_col', 'n_genes_by_counts', 'log1p_n_genes_by_counts', 'total_counts', 'log1p_total_counts', 'pct_counts_in_top_50_genes', 'pct_counts_in_top_100_genes', 'pct_counts_in_top_200_genes', 'pct_counts_in_top_500_genes', 'total_counts_mt', 'log1p_total_counts_mt', 'pct_counts_mt'\n",
       "    var: 'gene_ids', 'feature_types', 'genome', 'mt', 'n_cells_by_counts', 'mean_counts', 'log1p_mean_counts', 'pct_dropout_by_counts', 'total_counts', 'log1p_total_counts', 'n_cells', 'highly_variable', 'means', 'dispersions', 'dispersions_norm'\n",
       "    uns: 'spatial', 'log1p', 'hvg'\n",
       "    obsm: 'spatial'"
      ]
     },
     "execution_count": 7,
     "metadata": {},
     "output_type": "execute_result"
    }
   ],
   "source": [
    "adata"
   ]
  },
  {
   "cell_type": "code",
   "execution_count": 8,
   "id": "98593c75-4012-4d98-99ce-4e3bad6b7fd4",
   "metadata": {},
   "outputs": [],
   "source": [
    "adata = load_ST_file(os.path.join(args.path, args.name))\n",
    "df_meta = pd.read_csv(os.path.join(args.path, args.name, 'metadata.tsv'), sep='\\t')\n",
    "label = pd.Categorical(df_meta['layer_guess']).codes\n",
    "df_meta = df_meta[~pd.isnull(df_meta['layer_guess'])]\n",
    "n_clusters = label.max()+1\n",
    "pred = pd.read_csv(f'output/{args.name}_pred.csv')['cluster_labels']\n",
    "pred = pred[pred != -1]\n",
    "adata.obs['ground_truth'] = df_meta['layer_guess']\n",
    "adata.obs['DESTCLU'] = pred.array.astype(str)\n",
    "adata.obsm['DESTCLU'] = z\n",
    "sc.pp.neighbors(adata, use_rep='DESTCLU')\n",
    "sc.tl.umap(adata)"
   ]
  },
  {
   "cell_type": "code",
   "execution_count": null,
   "id": "ca51ecb8",
   "metadata": {},
   "outputs": [],
   "source": [
    "plt.rcParams[\"figure.figsize\"] = (5, 5)\n",
    "sc.pl.spatial(adata, img_key=\"hires\", color=[\"DESTCLU\"], title='CLFF(ARI=%.3f)'%ari, legend_loc=None,frameon=False,size=1.8,show=False)\n",
    "plt.savefig(\"./output/CLFF.pdf\")"
   ]
  },
  {
   "cell_type": "code",
   "execution_count": null,
   "id": "99e2a4ae",
   "metadata": {},
   "outputs": [],
   "source": [
    "sc.pl.umap(adata, color=[\"DESTCLU\"], title=['CLFF' + '\\n' + '(ARI=%.3f)'%ari])"
   ]
  },
  {
   "cell_type": "code",
   "execution_count": null,
   "id": "cf3dd587",
   "metadata": {},
   "outputs": [],
   "source": [
    "plt.rcParams[\"figure.figsize\"] = (5,5)\n",
    "sc.tl.paga(adata, groups=\"ground_truth\")\n",
    "sc.pl.paga_compare(adata, color=\"ground_truth\", title='CLFF(ARI=%.3f)'%ari, size=40,show=False)\n",
    "plt.savefig(\"./output/CLFF_151672_umap_PAGA.pdf\")"
   ]
  }
 ],
 "metadata": {
  "kernelspec": {
   "display_name": "Python 3 (ipykernel)",
   "language": "python",
   "name": "python3"
  },
  "language_info": {
   "codemirror_mode": {
    "name": "ipython",
    "version": 3
   },
   "file_extension": ".py",
   "mimetype": "text/x-python",
   "name": "python",
   "nbconvert_exporter": "python",
   "pygments_lexer": "ipython3",
   "version": "3.8.10"
  }
 },
 "nbformat": 4,
 "nbformat_minor": 5
}
